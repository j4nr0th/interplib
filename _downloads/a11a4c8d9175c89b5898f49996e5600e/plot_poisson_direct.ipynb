{
  "cells": [
    {
      "cell_type": "markdown",
      "metadata": {},
      "source": [
        "\n# Example 1: Direct Formulation of Poisson Equation in 1D\n\n.. currentmodule:: interplib\n\nThis example shows how the Python module can be used to solve the direct formulation of the\nPoisson equation in 1D. This is probably the simplest differential equation in 1D that can\nbe solved while meaningfully illustrating the way mimetic methods work.\n"
      ]
    },
    {
      "cell_type": "markdown",
      "metadata": {},
      "source": [
        "## Mimetic Derivation\n\nThe first thing which ought to be done is to define what problem we're solving exactly.\nThe goal is to solve the Poisson equation in 1D, which is written as:\n\n\\begin{align}\\begin{align}\n  \\nabla^2 \\phi = - f(x) && x \\in [x_0, x_1]\n  \\end{align}\\end{align}\n\nWith boundary conditions given as:\n\n\\begin{align}\\begin{align}\n  \\phi(x_0) = \\phi_0 && \\phi(x_1) = \\phi_1\n  \\end{align}\\end{align}\n\nThe way this is done with  the mimetic method is to first try and define the problem\nin terms of operations which can be performed on any manifold. In this case, the first\nstep is to write the problem in two steps:\n\n\\begin{align}\\begin{align}\n  d \\phi - u &= 0\\\\\n         d u &= - f\\\\\n  \\end{align}\\end{align}\n\nWith this formulation we can infer some things about how to create the direct\nformulation:\n\n- If $u$ is a $k$-form, then $f$ must be a $(k+1)$-form.\n- If $u$ is a $k$-form, then $phi$ must be a $(k - 1)$-form.\n\nBoth of these can not hold at the same time in 1D, so we must introduce another step.\n\n\n\\begin{align}\\begin{align}\n  d \\phi - \\tilde{u} &= 0\\\\\n  u - \\star \\tilde{u} &= 0\\\\\n         d u &= - f\n  \\end{align}\\end{align}\n\nHere we introduced another variable $\\tilde{u}$, which is used to solve\nthe problem which arose previously. The $\\star$ represents the Hodge operator,\nwhich for 1D means projection of a 0-form onto a 1-form or reverse. As such, we can\nnow write the equation with:\n\n\\begin{align}\\begin{align}\n  d \\phi^{(0)} - \\tilde{u}^{(1)} &= 0\\\\\n  u^{(0)} - \\star \\tilde{u}^{(1)} &= 0\\\\\n  d u^{(0)}  &= - f^{(1)}\n  \\end{align}\\end{align}\n\nWhich is now a system which is consistent. If we now represent each of the operations\nwith their respective matrix operators, we obtain the following discrete system:\n\n\\begin{align}\\begin{align}\n  \\tilde{\\mathbb{E}}^{0, 1} \\vec{\\phi}^{(0)} &= \\vec{\\tilde{u}}^{(1)}\n  \\mathbb{H}^{0, 1} \\vec{\\tilde{u}}^{(1)} &= \\vec{u}^{(0)}\n  \\mathbb{E}^{0, 1} \\vec{u}^{(0)}  &= - \\vec{f}^{(1)}\n  \\end{align}\\end{align}\n\nThis can more concisely be simplified into a single equation with only one variable:\n\n\\begin{align}\\mathbb{E}^{0, 1} \\mathbb{H}^{0, 1} \\tilde{\\mathbb{E}}^{0, 1} \\vec{\\phi}^{(0)}\n  = \\mathbb{E}^{0, 1} \\mathbb{H}^{0, 1} \\left(\\mathbb{E}^{0, 1}\\right)^T\n  = - \\vec{f}^{(1)}\\end{align}\n\nWhile this is a very mimetic way to derive the equation, there is also a more\n\"traditional\" way of getting to it.\n\n\n## Classical Derivation\n\nA more classic way of deriving it is to simply take the equation and multiply with an\narbitrary weight function $w: \\mathbb{R} \\leftarrow \\mathbb{R}$:\n\n\\begin{align}w (\\nabla^2 \\phi + f) = 0\\end{align}\n\nIf the equation is satisfied exactly, then it follows that the integral of this must\nalso be zero thruought the entire domain for all choices $w$ that can be made:\n\n\\begin{align}:label: weak-1\n\n  \\int\\limits_{x_0}^{x_1} w (\\nabla^2 \\phi + f) {dx} = 0\\end{align}\n\nSince it is not possible to do this in practice for the infinite set of functions from\nwhich the weight $w$ could be chosen, we must limit ourselves to a limited set of\nfunctions. A very common and convenient choice for such cases is to use the fact that\nwe must represent $\\phi$ with a finite number of degrees of freedom, which we\nassociate with different basis functions. As such, by using the basis functions for\nwhich the degrees of freedom are not known, the number of equations which can be\ngenerated from this equation always matches the number of the unknowns.\n\nWe must also deal with the fact that we currently can not express the equation\n:eq:`weak-1` in terms of differential forms, due to the double exteriro derivative.\n\nAs such, the first step is to use integration by parts and break the equation apart.\n\n\\begin{align}:label: weak-2\n\n  \\int\\limits_{x_0}^{x_1} d w d \\phi {dx} = \\int\\limits_{x_0}^{x_1} w f {dx}\n  + \\left[ \\hat{n} w \\phi \\right]_{x_0}^{x_1}\\end{align}\n\nNow $\\phi$,$w$, $f$ can be expressed as 0-forms:\n\n\n\\begin{align}:label: weak-3\n\n  \\int\\limits_{x_0}^{x_1} d w^{(0)} d \\phi^{(0)} {dx} = \\int\\limits_{x_0}^{x_1} w^{(0)}\n  f^{(0)} {dx} + \\left[ \\hat{n} w^{(0)} \\phi^{(0)} \\right]_{x_0}^{x_1}\\end{align}\n\n\n\n## Manufactured Solution\n\nTo validate the solver works, consider a case with a manufactured solution given by:\n\n\\begin{align}:label: man-phi\n\n  \\phi(x) = - \\sin\\left( \\alpha \\pi x + \\beta \\right), \\quad \\alpha, \\beta \\in\n  \\mathbb{R}\\end{align}\n\nThis gives the following forcing function:\n\n\\begin{align}:label: man-f\n\n  f(x) = - \\left(\\alpha \\pi x \\right)^2 \\sin\\left( \\alpha \\pi x + \\beta \\right)\\end{align}\n\n\n"
      ]
    },
    {
      "cell_type": "code",
      "execution_count": null,
      "metadata": {
        "collapsed": false
      },
      "outputs": [],
      "source": [
        "import numpy as np\nimport numpy.typing as npt\nfrom interplib import kforms, mimetic, solve_system_on_mesh\n\nALPHA = 1.2\nBETA = 0.2\n\n\ndef f_exact(x: npt.ArrayLike) -> npt.NDArray[np.float64]:\n    \"\"\"Compute f(x).\"\"\"\n    return np.astype(\n        -((ALPHA * np.pi) ** 2) * np.sin(ALPHA * np.pi * np.asarray(x) + BETA), np.float64\n    )\n\n\ndef phi_exact(x: npt.ArrayLike) -> npt.NDArray[np.float64]:\n    \"\"\"Compute phi(x).\"\"\"\n    return np.astype(-np.sin(ALPHA * np.pi * np.asarray(x) + BETA), np.float64)"
      ]
    },
    {
      "cell_type": "markdown",
      "metadata": {},
      "source": [
        "## Mesh\n\nNow we end up with the expression, which can be  solved using the Python module.\nThe first step is to define the mesh (which for 1D is simply a line). For this case,\nChebyshev nodes are used for the mesh. Each element also needs its own order, which\ndetermines the order of local 0-form basis functions and consequently number of basis\nand degrees of freedom for all other forms.\n\nThese orders are given in the ``element_orders`` array.\n\n#\n\n"
      ]
    },
    {
      "cell_type": "code",
      "execution_count": null,
      "metadata": {
        "collapsed": false
      },
      "outputs": [],
      "source": [
        "element_orders = [3, 2, 4, 6]\nmesh = mimetic.Mesh1D(\n    positions=(1 - np.cos(np.linspace(0, np.pi, len(element_orders) + 1))) / 2.0,\n    element_order=element_orders,\n)"
      ]
    },
    {
      "cell_type": "markdown",
      "metadata": {},
      "source": [
        "## Equation\n\nNext, the equation must be defined. This equation will be solved for each element on\nthe mesh, then the solution continuity and boundary conditions will be used to make\nthe problem well posed.\n\n"
      ]
    },
    {
      "cell_type": "markdown",
      "metadata": {},
      "source": [
        "First the forms must be used. For weight functions we have to use\n the :class:`kforms.KFormDual` object, whereas the unknown must be a\n :class:`kforms.KFormPrimal` object.\n\n# Unknown forms\n\n"
      ]
    },
    {
      "cell_type": "code",
      "execution_count": null,
      "metadata": {
        "collapsed": false
      },
      "outputs": [],
      "source": [
        "phi = kforms.KForm(mesh.manifold, \"phi\", 0)\nv = phi.weight"
      ]
    },
    {
      "cell_type": "markdown",
      "metadata": {},
      "source": [
        "With these defined, we can now formulate the equation that will be solved\n\n"
      ]
    },
    {
      "cell_type": "code",
      "execution_count": null,
      "metadata": {
        "collapsed": false
      },
      "outputs": [],
      "source": [
        "equation = (v.derivative * phi.derivative) == (v * f_exact)"
      ]
    },
    {
      "cell_type": "markdown",
      "metadata": {},
      "source": [
        "Given that this is the only equation for the entire system, we can now create\nthe :class:`kforms.KFormSystem`.\n\n\n"
      ]
    },
    {
      "cell_type": "code",
      "execution_count": null,
      "metadata": {
        "collapsed": false
      },
      "outputs": [],
      "source": [
        "system = kforms.KFormSystem(equation)\nprint(system)"
      ]
    },
    {
      "cell_type": "markdown",
      "metadata": {},
      "source": [
        "## Solving\n\nTo solve the 1D problem, we can now call the :func:`solve_system_on_mesh` function.\nThis is also where we specify which forms must be continuous (in this case $\\phi$)\nand the boundary conditions.\n\nThe resulting piecewise polynomial reconstruction of the solution is returned for each\nof the forms, though in this case, there's only $\\phi$.\n\n"
      ]
    },
    {
      "cell_type": "code",
      "execution_count": null,
      "metadata": {
        "collapsed": false
      },
      "outputs": [],
      "source": [
        "resulting_splines = solve_system_on_mesh(\n    system,\n    mesh,\n    continuous=[phi],\n    bcs_left=kforms.BoundaryCondition1DStrong(\n        {phi: 1}, float(phi_exact(mesh.positions[0]))\n    ),\n    bcs_right=kforms.BoundaryCondition1DStrong(\n        {phi: 1}, float(phi_exact(mesh.positions[-1]))\n    ),\n)"
      ]
    },
    {
      "cell_type": "markdown",
      "metadata": {},
      "source": [
        "## Visualizing the Results\n\nResults can now be plotted. This case shows the plot of the\nplot of the solution and the error from the exact solution.\n\n\n\n\n\n\n\n#\n\n"
      ]
    },
    {
      "cell_type": "code",
      "execution_count": null,
      "metadata": {
        "collapsed": false
      },
      "outputs": [],
      "source": [
        "from matplotlib import pyplot as plt  # noqa: E402\n\nnplt = 100\nxplt = np.linspace(0, 1, nplt)\n\nplt.figure()\nplt.title(\"Solution\")\nplt.scatter((0,), (phi_exact(0.0),), label=\"BC for $\\\\phi(0)$\")\nplt.scatter((1,), (phi_exact(1.0),), label=\"BC for $\\\\phi(1)$\")\nplt.plot(xplt, resulting_splines[phi](xplt), label=\"$\\\\hat{\\\\phi}$\", color=\"orange\")\nplt.plot(xplt, phi_exact(xplt), label=\"$\\\\phi$\", linestyle=\"dashed\")\nplt.xlabel(\"$x$\")\nplt.ylabel(\"$\\\\phi$\")\nplt.legend()\nplt.grid()\nplt.show()\n\nplt.figure()\nplt.title(\"Error\")\nplt.plot(xplt, phi_exact(xplt) - resulting_splines[phi](xplt))\nplt.xlabel(\"$x$\")\nplt.ylabel(\"$\\\\varepsilon$\")\nplt.grid()\nplt.show()"
      ]
    }
  ],
  "metadata": {
    "kernelspec": {
      "display_name": "Python 3",
      "language": "python",
      "name": "python3"
    },
    "language_info": {
      "codemirror_mode": {
        "name": "ipython",
        "version": 3
      },
      "file_extension": ".py",
      "mimetype": "text/x-python",
      "name": "python",
      "nbconvert_exporter": "python",
      "pygments_lexer": "ipython3",
      "version": "3.13.1"
    }
  },
  "nbformat": 4,
  "nbformat_minor": 0
}