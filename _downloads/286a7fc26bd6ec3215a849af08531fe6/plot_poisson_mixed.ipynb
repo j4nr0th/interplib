{
  "cells": [
    {
      "cell_type": "markdown",
      "metadata": {},
      "source": [
        "\n# Example 2: Mixed Formulation of Poisson Equation in 1D\n\n.. currentmodule:: interplib\n\nThis example shows how the Python module can be used to solve the mixed formulation of the\nPoisson equation in 1D. This formulation is typically regarded as more difficult way to solve\nthe Poisson equation, but allows for higher order accuracy in the gradient of the solution, which\nmay be more desirable in some cases.\n"
      ]
    },
    {
      "cell_type": "markdown",
      "metadata": {},
      "source": [
        "## Mimetic Derivation\n\nThe first thing which ought to be done is to define the problem the same way it was\ndefined in `example 1<sphx_glr_auto_examples_plot_poisson_direct.py>`.\nThe goal is once gain to solve the Poisson equation in 1D:\n\n\\begin{align}\\begin{align}\n  \\nabla^2 \\phi = - f(x) && x \\in [x_0, x_1]\n  \\end{align}\\end{align}\n\nWith boundary conditions given for this case as Dirichlet on one side and Neumann\non the other:\n\n\\begin{align}\\begin{align}\n  \\phi(x_0) = \\phi_0 && \\frac{d \\phi}{d x}(x_1) = u_1\n  \\end{align}\\end{align}\n\nThe initial part of the mimetic derivation is the same as was in\n`example 1<sphx_glr_auto_examples_plot_poisson_direct.py>`:\n\n\\begin{align}:label: first\n\n  d \\phi - u = 0\\end{align}\n\n\\begin{align}:label: second\n\n  d u = - f\\end{align}\n\nHowever, the difference now is that the goal is to keep $u$. As such we know for\nsure that $u$ must be a 0-form, as otherwise we can not take its exterior\nderivative. This then makes $f$ a 1-form. The issue is then in how to reconcile\nthe equation :eq:`first`. Here, we solve this by multiplying the equation with a weight\nfunction $w$, which then allows us to move the exterior derivative on it,\ninstead of $\\phi$. This also means, that the weight function should be a 0-form:\n\n\\begin{align}\\int\\limits_{x_0}^{x_1} w \\left( u - d \\phi \\right) {dx} =\n  \\int\\limits_{x_0}^{x_1} w u + \\int\\limits_{x_0}^{x_1} d w \\phi {dx}\n  - \\left[ w \\phi \\right]_{x_0}^{x_1} = 0\\end{align}\n\nThis now determines the following:\n\n- $u$ is a 0-form,\n- $w$ is a 0-form,\n- $\\phi$ is a 1-form.\n\nTo solve equation $second$, we must then use a 1-form weight function $q$,\nwhich thus makes $f$ a 1-form. With that and some abuse of notation, the entire\nsystem of equations becomes:\n\n\\begin{align}\\begin{align}\n  \\int_\\Omega w u + \\int_\\Omega dw \\phi &= \\int_{\\partial\\Omega} w \\phi \\\\\n  \\int_\\Omega q {du}  &= - \\int_\\Omega q f \\\\\n  \\end{align}\\end{align}\n\n## Manufactured Solution\n\nTo validate the solver works, consider a case with a manufactured solution given by:\n\n\\begin{align}\\phi(x) = - \\sin\\left( \\alpha \\pi x + \\beta \\right), \\quad \\alpha, \\beta \\in\n  \\mathbb{R}\\end{align}\n\nThis gives the following forcing function:\n\n\\begin{align}f(x) = - \\left(\\alpha \\pi x \\right)^2 \\sin\\left( \\alpha \\pi x + \\beta \\right)\\end{align}\n\nAnd the gradient as:\n\n\\begin{align}u(x) = - (\\alpha \\pi) \\cos\\left( \\alpha \\pi x + \\beta \\right)\\end{align}\n\n\n\n"
      ]
    },
    {
      "cell_type": "code",
      "execution_count": null,
      "metadata": {
        "collapsed": false
      },
      "outputs": [],
      "source": [
        "import numpy as np\nimport numpy.typing as npt\nfrom interplib import kforms, mimetic, solve_system_on_mesh\n\nALPHA = 1.2\nBETA = 0.2\n\n\ndef f_exact(x: npt.ArrayLike) -> npt.NDArray[np.float64]:\n    \"\"\"Compute f(x).\"\"\"\n    return np.astype(\n        -((ALPHA * np.pi) ** 2) * np.sin(ALPHA * np.pi * np.asarray(x) + BETA), np.float64\n    )\n\n\ndef u_exact(x: npt.ArrayLike) -> npt.NDArray[np.float64]:\n    \"\"\"Compute u(x).\"\"\"\n    return np.astype(\n        -(ALPHA * np.pi) * np.cos(ALPHA * np.pi * np.asarray(x) + BETA), np.float64\n    )\n\n\ndef phi_exact(x: npt.ArrayLike) -> npt.NDArray[np.float64]:\n    \"\"\"Compute phi(x).\"\"\"\n    return np.astype(-np.sin(ALPHA * np.pi * np.asarray(x) + BETA), np.float64)"
      ]
    },
    {
      "cell_type": "markdown",
      "metadata": {},
      "source": [
        "## Mesh\n\nThe mesh will once again be a simple line, since this is 1D. For this case, elements\nof the exact same order $p$ will be used.\n#\n\n"
      ]
    },
    {
      "cell_type": "code",
      "execution_count": null,
      "metadata": {
        "collapsed": false
      },
      "outputs": [],
      "source": [
        "p = 3\nn_elem = 5\nmesh = mimetic.Mesh1D(\n    positions=(1 - np.cos(np.linspace(0, np.pi, n_elem + 1))) / 2.0,\n    element_order=p,\n)"
      ]
    },
    {
      "cell_type": "markdown",
      "metadata": {},
      "source": [
        "## Equation\n\nThe equations are defined in the same way\n`example 1<sphx_glr_auto_examples_plot_poisson_direct.py>`.\nThis time, the difference is that there are two equations which are to be solved\nper element.\n\n"
      ]
    },
    {
      "cell_type": "markdown",
      "metadata": {},
      "source": [
        "The first equation is the one which enforces $u$ being equal to the exterior\nderivative of $\\phi$. Note that the weak boundary conditions are to be specified\nlater, once the solution is being computed.\n\n\n"
      ]
    },
    {
      "cell_type": "code",
      "execution_count": null,
      "metadata": {
        "collapsed": false
      },
      "outputs": [],
      "source": [
        "## Weight form\n\n## Unknown forms\nphi = kforms.KForm(mesh.manifold, \"phi\", 1)\nu = kforms.KForm(mesh.manifold, \"u\", 0)\nw = u.weight\n\n# Brackets are for readability\neq1 = (w * u) + (w.derivative * phi) == w * 0"
      ]
    },
    {
      "cell_type": "markdown",
      "metadata": {},
      "source": [
        "Now the second equation can be defined, which forces the exterior derivative of\n$u$ to match the prescribed forcing $f$:\n\n\n"
      ]
    },
    {
      "cell_type": "code",
      "execution_count": null,
      "metadata": {
        "collapsed": false
      },
      "outputs": [],
      "source": [
        "## New weight form\nq = phi.weight\n\n# Brackets are for readability\neq2 = (q * u.derivative) == (q * (lambda x: -f_exact(x)))"
      ]
    },
    {
      "cell_type": "markdown",
      "metadata": {},
      "source": [
        "With these defined, the system of equations can now be formed. This time, the\nthe forms are sorted based on their order. This is mainly just to get a consistent\nordering.\n\n"
      ]
    },
    {
      "cell_type": "code",
      "execution_count": null,
      "metadata": {
        "collapsed": false
      },
      "outputs": [],
      "source": [
        "system = kforms.KFormSystem(\n    eq1,\n    eq2,\n    sorting=lambda form: -form.order,\n)\nprint(system)"
      ]
    },
    {
      "cell_type": "markdown",
      "metadata": {},
      "source": [
        "## Solving\n\nThe problem can now be solved. This time, the continuity is enforced only on $u$,\nsince that's a 0-form, while $phi$ is a 1-form. This time, a weak boundary\ncondition on $\\phi$ is given on the left boundary.\n\n"
      ]
    },
    {
      "cell_type": "code",
      "execution_count": null,
      "metadata": {
        "collapsed": false
      },
      "outputs": [],
      "source": [
        "with np.printoptions(2):\n    resulting_splines = solve_system_on_mesh(\n        system,\n        mesh,\n        continuous=[u],\n        bcs_left=kforms.BoundaryCondition1DWeak(phi, float(phi_exact(mesh.positions[0]))),\n        bcs_right=kforms.BoundaryCondition1DStrong(\n            {u: 1}, float(u_exact(mesh.positions[-1]))\n        ),\n    )"
      ]
    },
    {
      "cell_type": "markdown",
      "metadata": {},
      "source": [
        "## Visualizing the Results\n\nBoth results for $\\phi$ and $u$ are plotted.\n\n\n#\n\n"
      ]
    },
    {
      "cell_type": "code",
      "execution_count": null,
      "metadata": {
        "collapsed": false
      },
      "outputs": [],
      "source": [
        "from matplotlib import pyplot as plt  # noqa: E402\n\nnplt = 100\nxplt = np.linspace(0, 1, nplt)\n\nplt.figure()\nplt.title(\"Solution for $\\\\phi$\")\nplt.scatter((0,), (phi_exact(0.0),), label=\"BC for $\\\\phi(0)$\")\nplt.plot(xplt, resulting_splines[phi](xplt), label=\"$\\\\hat{\\\\phi}$\", color=\"orange\")\nplt.plot(xplt, phi_exact(xplt), label=\"$\\\\phi$\", linestyle=\"dashed\")\nplt.xlabel(\"$x$\")\nplt.ylabel(\"$\\\\phi$\")\nplt.legend()\nplt.grid()\nplt.show()\n\nplt.figure()\nplt.title(\"Error in $\\\\phi$\")\nplt.plot(xplt, phi_exact(xplt) - resulting_splines[phi](xplt))\nplt.xlabel(\"$x$\")\nplt.ylabel(\"$\\\\varepsilon$\")\nplt.grid()\nplt.show()\n\nplt.figure()\nplt.title(\"Solution for $u$\")\nplt.scatter((1,), (u_exact(1),), label=\"BC for $u(1)$\")\nplt.plot(xplt, resulting_splines[u](xplt), label=\"$\\\\hat{u}$\", color=\"orange\")\nplt.plot(xplt, u_exact(xplt), label=\"$u$\", linestyle=\"dashed\")\nplt.xlabel(\"$x$\")\nplt.ylabel(\"$u$\")\nplt.legend()\nplt.grid()\nplt.show()\n\nplt.figure()\nplt.title(\"Error in $u$\")\nplt.plot(xplt, u_exact(xplt) - resulting_splines[u](xplt))\nplt.xlabel(\"$x$\")\nplt.ylabel(\"$\\\\varepsilon$\")\nplt.grid()\nplt.show()"
      ]
    }
  ],
  "metadata": {
    "kernelspec": {
      "display_name": "Python 3",
      "language": "python",
      "name": "python3"
    },
    "language_info": {
      "codemirror_mode": {
        "name": "ipython",
        "version": 3
      },
      "file_extension": ".py",
      "mimetype": "text/x-python",
      "name": "python",
      "nbconvert_exporter": "python",
      "pygments_lexer": "ipython3",
      "version": "3.13.1"
    }
  },
  "nbformat": 4,
  "nbformat_minor": 0
}